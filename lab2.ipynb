{
  "nbformat": 4,
  "nbformat_minor": 0,
  "metadata": {
    "colab": {
      "provenance": []
    },
    "kernelspec": {
      "name": "python3",
      "display_name": "Python 3"
    },
    "language_info": {
      "name": "python"
    }
  },
  "cells": [
    {
      "cell_type": "code",
      "execution_count": 1,
      "metadata": {
        "colab": {
          "base_uri": "https://localhost:8080/"
        },
        "id": "1I5OOwLrMgbu",
        "outputId": "8f224538-98e4-48f1-bca7-80d10fa45be2"
      },
      "outputs": [
        {
          "output_type": "stream",
          "name": "stdout",
          "text": [
            "Chuỗi X: INTENTION\n",
            "Chuỗi Y: EXECUTION\n",
            "------------------------------\n",
            "Minimum Edit Distance (với chi phí Sub=2) là: 8\n"
          ]
        }
      ],
      "source": [
        "def minimum_edit_distance(X, Y):\n",
        "    \"\"\"\n",
        "    Tính toán Minimum Edit Distance (với chi phí Chèn/Xóa=1, Thay thế=2)\n",
        "    giữa hai chuỗi X và Y bằng Dynamic Programming.\n",
        "    \"\"\"\n",
        "    len_X = len(X)\n",
        "    len_Y = len(Y)\n",
        "\n",
        "\n",
        "    D = [[0] * (len_Y + 1) for _ in range(len_X + 1)]\n",
        "\n",
        "\n",
        "    for i in range(1, len_X + 1):\n",
        "        D[i][0] = D[i-1][0] + 1\n",
        "\n",
        "    for j in range(1, len_Y + 1):\n",
        "        D[0][j] = D[0][j-1] + 1\n",
        "\n",
        "\n",
        "    for i in range(1, len_X + 1):\n",
        "        for j in range(1, len_Y + 1):\n",
        "\n",
        "\n",
        "            cost_sub = 0 if X[i-1] == Y[j-1] else 2\n",
        "\n",
        "\n",
        "            D[i][j] = min(\n",
        "                D[i-1][j] + 1,\n",
        "                D[i][j-1] + 1,\n",
        "                D[i-1][j-1] + cost_sub\n",
        "            )\n",
        "\n",
        "\n",
        "    return D[len_X][len_Y], D\n",
        "\n",
        "string1 = \"INTENTION\"\n",
        "string2 = \"EXECUTION\"\n",
        "\n",
        "distance, matrix = minimum_edit_distance(string1, string2)\n",
        "\n",
        "print(f\"Chuỗi X: {string1}\")\n",
        "print(f\"Chuỗi Y: {string2}\")\n",
        "print(\"-\" * 30)\n",
        "print(f\"Minimum Edit Distance (với chi phí Sub=2) là: {distance}\")\n",
        "\n"
      ]
    }
  ]
}